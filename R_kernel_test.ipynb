{
 "cells": [
  {
   "cell_type": "markdown",
   "metadata": {},
   "source": [
    "# How to install and use the Jupyter notebook on Mac OS X\n",
    "## Author: Sara Nuñez"
   ]
  },
  {
   "cell_type": "markdown",
   "metadata": {},
   "source": [
    "### Install ipython/jupyter"
   ]
  },
  {
   "cell_type": "markdown",
   "metadata": {},
   "source": [
    "First visit this link: http://continuum.io/downloads#py34 to install anaconda for to install ipython on machine. Once installed, use command line to run following:\n",
    "\n",
    "                pip install jupyter"
   ]
  },
  {
   "cell_type": "markdown",
   "metadata": {},
   "source": [
    "### Install R kernel for notebook\n",
    "\n",
    "The following steps through how to install the R kernel needed to use R code in a Jupyter notebook. Both an R console and the terminal will be needed.\n",
    "\n",
    "First, run the following code in R:"
   ]
  },
  {
   "cell_type": "code",
   "execution_count": null,
   "metadata": {
    "collapsed": false
   },
   "outputs": [],
   "source": [
    "install.packages(c('repr','IRkernel','IRdisplay'),\n",
    "                 repos = c('http://irkernel.github.io/', getOption('repos')))\n",
    "install.packages('rzmq')\n",
    "library(repr)\n",
    "library(IRkernel)\n",
    "library(IRdisplay)\n",
    "library(rzmq)"
   ]
  },
  {
   "cell_type": "markdown",
   "metadata": {},
   "source": [
    "Next, you'll want to run the follwing command in terminal:\n",
    "\n",
    "        ipython kernelspec install --replace --name ir --user /Library/Frameworks/R.framework/Versions/3.2/Resources/library/IRkernel/kernelspec"
   ]
  },
  {
   "cell_type": "markdown",
   "metadata": {},
   "source": [
    "Lastly, we need to rerun the library commands for the IRkernel and use the installspec() function:"
   ]
  },
  {
   "cell_type": "code",
   "execution_count": null,
   "metadata": {
    "collapsed": true
   },
   "outputs": [],
   "source": [
    "library(IRkernel)\n",
    "library(IRdisplay)\n",
    "\n",
    "IRkernel::installspec()"
   ]
  },
  {
   "cell_type": "markdown",
   "metadata": {},
   "source": [
    "### Open a notebook\n",
    "\n",
    "We can now go back to the terminal and launch Jupyter web-based notebook by typing the following on the command line:\n",
    "\n",
    "        jupyter notebook\n",
    "\n",
    "When it launches, you'll see the following page appear. We can create a new notebook utilizing R code by clicking the 'New' tab and navigating to the R notebook option as shown\n",
    "\n",
    "<img src=\"/Users/afoulkes/Desktop/jupyter_demo_Rkernel.png\" width=\"900\" height=\"600\">\n"
   ]
  }
 ],
 "metadata": {
  "celltoolbar": "Raw Cell Format",
  "kernelspec": {
   "display_name": "R",
   "language": "R",
   "name": "ir"
  },
  "language_info": {
   "codemirror_mode": "r",
   "file_extension": ".r",
   "mimetype": "text/x-r-source",
   "name": "R",
   "pygments_lexer": "r",
   "version": "3.2.1"
  }
 },
 "nbformat": 4,
 "nbformat_minor": 0
}
